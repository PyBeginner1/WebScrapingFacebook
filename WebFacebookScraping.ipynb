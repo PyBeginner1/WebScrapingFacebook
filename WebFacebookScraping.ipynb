{
 "cells": [
  {
   "cell_type": "code",
   "execution_count": 101,
   "id": "leading-joint",
   "metadata": {},
   "outputs": [],
   "source": [
    "from selenium import webdriver\n",
    "from selenium.webdriver.common.keys import Keys\n",
    "from selenium.webdriver.support import expected_conditions as EC\n",
    "from selenium.webdriver.common.by import By\n",
    "from selenium.webdriver.support.wait import WebDriverWait\n",
    "import os\n",
    "import wget\n",
    "import time\n"
   ]
  },
  {
   "cell_type": "code",
   "execution_count": 102,
   "id": "warming-mexican",
   "metadata": {},
   "outputs": [
    {
     "name": "stderr",
     "output_type": "stream",
     "text": [
      "<ipython-input-102-9a595ce2ff87>:7: DeprecationWarning: use options instead of chrome_options\n",
      "  driver = webdriver.Chrome('D:/TestPython/venv/Lib/site-packages/chromedriver',chrome_options=chrome_options)\n"
     ]
    }
   ],
   "source": [
    "#disable notifications from stack overflow\n",
    "chrome_options = webdriver.ChromeOptions()\n",
    "prefs = {\"profile.default_content_setting_values.notifications\" : 2}\n",
    "chrome_options.add_experimental_option(\"prefs\",prefs)\n",
    "\n",
    "#connect webdriver to this notebook by specifying path of webdriver\n",
    "driver = webdriver.Chrome('D:/TestPython/venv/Lib/site-packages/chromedriver',chrome_options=chrome_options)\n",
    "driver.get('http://www.facebook.com')                                                                   "
   ]
  },
  {
   "cell_type": "code",
   "execution_count": 103,
   "id": "right-coalition",
   "metadata": {},
   "outputs": [],
   "source": [
    "#targetting the input fields\n",
    "username=WebDriverWait(driver,10).until(EC.element_to_be_clickable((By.CSS_SELECTOR, \"input[name='email']\")))\n",
    "password=WebDriverWait(driver,10).until(EC.element_to_be_clickable((By.CSS_SELECTOR,\"input[name='pass']\")))\n",
    "                                                                    \n",
    "username.clear()\n",
    "username.send_keys('email')                                                                   \n",
    "password.clear()\n",
    "password.send_keys('yourpasswrd')                                                                    \n",
    "\n",
    "#hitting Login button\n",
    "button=WebDriverWait(driver,10).until(EC.element_to_be_clickable((By.CSS_SELECTOR,\"button[type='submit']\"))).click()\n",
    "                                                                    "
   ]
  },
  {
   "cell_type": "code",
   "execution_count": 104,
   "id": "better-beginning",
   "metadata": {},
   "outputs": [],
   "source": [
    "images=[]\n",
    "for i in['photos_all','photos_albums']:\n",
    "    driver.get(\"https://www.facebook.com/practice.scraping/photos_all\")\n",
    "    time.sleep(2)\n",
    "    \n",
    "    n_scrolls=2\n",
    "    for j in range(1,n_scrolls):\n",
    "        driver.execute_script(\"window.scrollTo(0,document.body.scrollHeight);\")\n",
    "\n",
    "        time.sleep(2)\n",
    "\n",
    "        anchors = driver.find_elements_by_tag_name('a')\n",
    "        #targets & retrieves http of all elements in the page\n",
    "        anchors =[a.get_attribute('href') for a in anchors]\n",
    "        #only target images\n",
    "        anchors = [a for a in anchors if str(a).startswith('https://www.facebook.com/photo')]\n",
    "        \n",
    "        #extract 1st image element\n",
    "        for a in anchors:\n",
    "            driver.get(a)         #go to the link\n",
    "            time.sleep(2)\n",
    "            #select image elements on the page\n",
    "            img = driver.find_elements_by_tag_name('img')\n",
    "            images.append(img[1].get_attribute('src'))\n",
    "            "
   ]
  },
  {
   "cell_type": "code",
   "execution_count": 105,
   "id": "filled-dispatch",
   "metadata": {},
   "outputs": [
    {
     "data": {
      "text/plain": [
       "'D:\\\\TestPython\\\\venv\\\\Lib\\\\site-packages\\\\Facebook Photos'"
      ]
     },
     "execution_count": 105,
     "metadata": {},
     "output_type": "execute_result"
    }
   ],
   "source": [
    "#create folder\n",
    "path = os.getcwd()\n",
    "path = os.path.join(path,\"Facebook Photos\")\n",
    "os.mkdir(path)\n",
    "path"
   ]
  },
  {
   "cell_type": "code",
   "execution_count": 107,
   "id": "copyrighted-printing",
   "metadata": {},
   "outputs": [
    {
     "name": "stdout",
     "output_type": "stream",
     "text": [
      "\r",
      "  0% [                                                                              ]     0 / 19039\r",
      " 43% [.................................                                             ]  8192 / 19039\r",
      " 86% [...................................................................           ] 16384 / 19039\r",
      "100% [..............................................................................] 19039 / 19039\r",
      "  0% [                                                                                ]    0 / 7239\r",
      "100% [................................................................................] 7239 / 7239\r",
      "  0% [                                                                                ]    0 / 9162\r",
      " 89% [.......................................................................         ] 8192 / 9162\r",
      "100% [................................................................................] 9162 / 9162"
     ]
    }
   ],
   "source": [
    "#save images into the folder\n",
    "counter = 0\n",
    "for image in images:\n",
    "    save_as = os.path.join(path, str(counter) + '.jpg')\n",
    "    wget.download(image, save_as)\n",
    "    counter += 1"
   ]
  },
  {
   "cell_type": "code",
   "execution_count": null,
   "id": "relative-winning",
   "metadata": {},
   "outputs": [],
   "source": []
  }
 ],
 "metadata": {
  "kernelspec": {
   "display_name": "Python 3",
   "language": "python",
   "name": "python3"
  },
  "language_info": {
   "codemirror_mode": {
    "name": "ipython",
    "version": 3
   },
   "file_extension": ".py",
   "mimetype": "text/x-python",
   "name": "python",
   "nbconvert_exporter": "python",
   "pygments_lexer": "ipython3",
   "version": "3.9.1"
  }
 },
 "nbformat": 4,
 "nbformat_minor": 5
}
